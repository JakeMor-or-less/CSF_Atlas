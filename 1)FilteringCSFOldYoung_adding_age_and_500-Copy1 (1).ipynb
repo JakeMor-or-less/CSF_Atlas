{
 "cells": [
  {
   "cell_type": "code",
   "execution_count": null,
   "id": "b9e4dfa9-d05e-49a6-a969-f91cad44bfb2",
   "metadata": {},
   "outputs": [],
   "source": [
    "#load modules\n",
    "import os\n",
    "import random \n",
    "import senepy as sp\n",
    "import scanpy as sc\n",
    "import pandas as pd\n",
    "import matplotlib.pyplot as plt\n",
    "import seaborn as sns\n",
    "import numpy as np\n",
    "\n",
    "# Set working directory\n",
    "os.chdir('/fs/scratch/PAS2598/Morales/CSF_workspace/csf')\n",
    "\n",
    "# Check current working directory\n",
    "print(os.getcwd())\n",
    "\n",
    "random.seed(42)"
   ]
  },
  {
   "cell_type": "code",
   "execution_count": null,
   "id": "42cb4a2e-e2bd-47b2-ade5-7ffe2f674550",
   "metadata": {},
   "outputs": [],
   "source": [
    "adata = sc.read_h5ad('atlas.h5ad')"
   ]
  },
  {
   "cell_type": "code",
   "execution_count": null,
   "id": "8ad2b631-4286-4458-bae2-3d7fb4820540",
   "metadata": {},
   "outputs": [],
   "source": [
    "adata"
   ]
  },
  {
   "cell_type": "code",
   "execution_count": null,
   "id": "4d995f65-c4e3-4c10-a96c-242ea6d8020e",
   "metadata": {},
   "outputs": [],
   "source": [
    "adata.obs.head()"
   ]
  },
  {
   "cell_type": "code",
   "execution_count": null,
   "id": "ff8a148b-96ef-43da-a323-d93d38b672f0",
   "metadata": {},
   "outputs": [],
   "source": [
    "raw_counts = sc.read_h5ad('atlas_raw_counts.h5ad')\n",
    "\n",
    "raw_counts.obs.head()"
   ]
  },
  {
   "cell_type": "code",
   "execution_count": null,
   "id": "78481c4e-0db5-412b-bee5-ed60df4c680e",
   "metadata": {},
   "outputs": [],
   "source": [
    "raw_counts"
   ]
  },
  {
   "cell_type": "code",
   "execution_count": null,
   "id": "196e3bf1-377d-4bf3-814f-4f5d78597934",
   "metadata": {},
   "outputs": [],
   "source": [
    "# Check cell ID formats\n",
    "print(\"=== CELL ID FORMAT INVESTIGATION ===\")\n",
    "\n",
    "# Look at cell names in both datasets\n",
    "print(\"Processed data cell names (first 5):\")\n",
    "print(list(adata.obs_names[:5]))\n",
    "\n",
    "print(\"Raw counts cell names (first 5):\")\n",
    "print(list(raw_counts.obs_names[:5]))\n",
    "\n",
    "# Check if they have different suffixes/prefixes\n",
    "processed_sample = adata.obs_names[0]\n",
    "raw_sample = raw_counts.obs_names[0]\n",
    "\n",
    "print(f\"\\nExample processed cell: '{processed_sample}'\")\n",
    "print(f\"Example raw cell: '{raw_sample}'\")\n",
    "\n",
    "# Check if there's a pattern (e.g., sample suffix differences)\n",
    "print(f\"\\nProcessed cell length: {len(processed_sample)}\")\n",
    "print(f\"Raw cell length: {len(raw_sample)}\")\n",
    "\n",
    "# Check sample information\n",
    "print(f\"\\nSamples in processed data:\")\n",
    "print(adata.obs['sample'].unique()[:5])\n",
    "\n",
    "if 'sample' in raw_counts.obs.columns:\n",
    "    print(f\"Samples in raw data:\")\n",
    "    print(raw_counts.obs['sample'].unique()[:5])\n",
    "else:\n",
    "    print(\"No 'sample' column in raw data\")\n",
    "    print(\"Raw data obs columns:\", raw_counts.obs.columns.tolist())\n",
    "\n",
    "# Check alignment\n",
    "print(f\"\\n=== ALIGNMENT CHECK ===\")\n",
    "print(f\"Processed data (adata): {adata.shape}\")\n",
    "print(f\"Raw counts data: {raw_counts.shape}\")\n",
    "\n",
    "# Check cell overlap\n",
    "processed_cells = set(adata.obs_names)\n",
    "raw_cells = set(raw_counts.obs_names)\n",
    "cell_overlap = processed_cells.intersection(raw_cells)\n",
    "\n",
    "print(f\"Processed cells: {len(processed_cells)}\")\n",
    "print(f\"Raw count cells: {len(raw_cells)}\")\n",
    "print(f\"Overlapping cells: {len(cell_overlap)}\")\n",
    "\n",
    "# Check sample overlap if possible\n",
    "if 'sample' in raw_counts.obs.columns:\n",
    "    processed_samples = set(adata.obs['sample'])\n",
    "    raw_samples = set(raw_counts.obs['sample'])\n",
    "    sample_overlap = processed_samples.intersection(raw_samples)\n",
    "    \n",
    "    print(f\"\\nProcessed samples: {len(processed_samples)}\")\n",
    "    print(f\"Raw samples: {len(raw_samples)}\")\n",
    "    print(f\"Overlapping samples: {len(sample_overlap)}\")\n",
    "    \n",
    "    if len(sample_overlap) > 0:\n",
    "        print(\"Can proceed with sample-level pseudobulk!\")\n",
    "        print(f\"Common samples: {list(sample_overlap)[:5]}\")"
   ]
  },
  {
   "cell_type": "code",
   "execution_count": null,
   "id": "d2d23499-32e1-4999-b08e-fb33bca8c4a7",
   "metadata": {},
   "outputs": [],
   "source": [
    "# Add raw counts to your processed adata object\n",
    "print(\"=== ADDING RAW COUNTS TO PROCESSED ADATA ===\")\n",
    "\n",
    "# Since alignment is perfect, we can directly add the layer\n",
    "# Make sure both objects have the same cell and gene order\n",
    "print(\"Ensuring same order...\")\n",
    "\n",
    "# Reorder raw_counts to match adata exactly\n",
    "raw_counts_aligned = raw_counts[adata.obs_names, adata.var_names]\n",
    "\n",
    "print(f\"adata shape: {adata.shape}\")\n",
    "print(f\"raw_counts_aligned shape: {raw_counts_aligned.shape}\")\n",
    "\n",
    "# Add raw counts as a layer\n",
    "if hasattr(raw_counts_aligned.X, 'toarray'):\n",
    "    adata.layers['raw_counts'] = raw_counts_aligned.X.toarray()\n",
    "else:\n",
    "    adata.layers['raw_counts'] = raw_counts_aligned.X.copy()\n",
    "\n",
    "print(\"Raw counts added as layer!\")\n",
    "\n",
    "# Verify the addition\n",
    "print(f\"Raw counts layer shape: {adata.layers['raw_counts'].shape}\")\n",
    "print(f\"Raw counts layer max: {adata.layers['raw_counts'].max():,.0f}\")\n",
    "print(f\"Raw counts layer min: {adata.layers['raw_counts'].min():,.0f}\")\n",
    "\n",
    "# Check a specific gene to verify alignment\n",
    "test_gene = 'CDKN1A'\n",
    "if test_gene in adata.var_names:\n",
    "    gene_idx = list(adata.var_names).index(test_gene)\n",
    "    raw_values = adata.layers['raw_counts'][:10, gene_idx]  # First 10 cells\n",
    "    print(f\"\\nSample raw values for {test_gene}: {raw_values}\")"
   ]
  },
  {
   "cell_type": "code",
   "execution_count": null,
   "id": "1b179e16-a55a-41b4-bbc6-6db614287ab9",
   "metadata": {},
   "outputs": [],
   "source": [
    "adata"
   ]
  },
  {
   "cell_type": "code",
   "execution_count": null,
   "id": "25426272-ba30-45d4-9ab1-7c22e83f13d8",
   "metadata": {},
   "outputs": [],
   "source": [
    "adata.write('adata_with_raw.h5ad')"
   ]
  },
  {
   "cell_type": "code",
   "execution_count": null,
   "id": "37dd8192-3fb7-49b7-ae4a-9546395f17f7",
   "metadata": {},
   "outputs": [],
   "source": [
    "# Read your age CSV\n",
    "age_df = pd.read_csv('atlas_age.csv')\n",
    "print(age_df.head())"
   ]
  },
  {
   "cell_type": "code",
   "execution_count": null,
   "id": "0dce6bba-0963-4984-a1fe-69ebea7468b2",
   "metadata": {},
   "outputs": [],
   "source": [
    "# Check what samples you have in your adata\n",
    "print(\"Samples in adata:\", adata.obs['sample'].unique())"
   ]
  },
  {
   "cell_type": "code",
   "execution_count": null,
   "id": "a9208f9d-1fe4-4666-9cf0-9acbf8b15460",
   "metadata": {},
   "outputs": [],
   "source": [
    "# Merge the dataframes\n",
    "adata.obs = adata.obs.merge(age_df, on='sample', how='left')"
   ]
  },
  {
   "cell_type": "code",
   "execution_count": null,
   "id": "fa325ec9-6f63-4651-933f-d5345ac7c8a5",
   "metadata": {},
   "outputs": [],
   "source": [
    "# 4. Check that it worked\n",
    "print(\"Age column added:\", 'age' in adata.obs.columns)\n",
    "print(\"Sample ages:\", adata.obs[['sample', 'age']].head())"
   ]
  },
  {
   "cell_type": "code",
   "execution_count": null,
   "id": "367e4186-fe94-4718-9d1f-45f4b547b043",
   "metadata": {},
   "outputs": [],
   "source": [
    "# Check a few examples\n",
    "print(adata.obs[['sample', 'age']].head(10))\n",
    "\n",
    "# Verify all cells from same sample have same age\n",
    "sample_ages = adata.obs.groupby('sample')['age'].nunique()\n",
    "print(\"Each sample should have only 1 age:\", sample_ages.max() == 1)"
   ]
  },
  {
   "cell_type": "code",
   "execution_count": null,
   "id": "34a96d26-b61f-465b-942c-f8bca652e72a",
   "metadata": {},
   "outputs": [],
   "source": [
    "# Same age group creation as before\n",
    "adata.obs['age_comparison'] = 'exclude'  # default\n",
    "adata.obs.loc[adata.obs['age'] <= 25, 'age_comparison'] = '≤25 years'\n",
    "adata.obs.loc[adata.obs['age'] >= 60, 'age_comparison'] = '≥60 years'"
   ]
  },
  {
   "cell_type": "code",
   "execution_count": null,
   "id": "287e86e6-ac12-4e98-a378-7cb7f73e7cf0",
   "metadata": {},
   "outputs": [],
   "source": [
    "adata.write('adata_with_raw_age_filtered.h5ad')"
   ]
  },
  {
   "cell_type": "code",
   "execution_count": null,
   "id": "fc01968c-3a6f-4d57-b96f-441a8913e580",
   "metadata": {},
   "outputs": [],
   "source": [
    "# Need to exclude samples > 500 cells total "
   ]
  },
  {
   "cell_type": "code",
   "execution_count": null,
   "id": "ffbe1e81-4897-4c1d-b5db-b5ac4c65c2a4",
   "metadata": {},
   "outputs": [],
   "source": [
    "# Get cell counts per sample\n",
    "cells_per_sample = adata.obs['sample'].value_counts()\n",
    "\n",
    "# Find samples with 500 or more cells\n",
    "samples_to_keep = cells_per_sample[cells_per_sample >= 500].index\n",
    "\n",
    "# Filter the data to only include samples with >= 500 cells\n",
    "adata_500 = adata[adata.obs['sample'].isin(samples_to_keep)].copy()\n",
    "\n",
    "print(f\"Original samples: {len(cells_per_sample)}\")\n",
    "print(f\"Samples with ≥500 cells: {len(samples_to_keep)}\")\n",
    "print(f\"Original cells: {adata.n_obs}\")\n",
    "print(f\"Cells after filtering: {adata_500.n_obs}\")"
   ]
  },
  {
   "cell_type": "code",
   "execution_count": null,
   "id": "224e7a55-ca52-4dc2-9166-54c726563d03",
   "metadata": {},
   "outputs": [],
   "source": [
    "# Count cells per sample\n",
    "print(\"Cells per sample:\")\n",
    "print(adata_500.obs['sample'].value_counts().sort_index())\n",
    "\n",
    "# Or get it as a sorted table\n",
    "sample_counts = adata_500.obs['sample'].value_counts().sort_index()\n",
    "print(f\"\\nTotal samples: {len(sample_counts)}\")\n",
    "print(f\"Cells per sample range: {sample_counts.min()} - {sample_counts.max()}\")\n",
    "print(f\"Mean cells per sample: {sample_counts.mean():.1f}\")"
   ]
  },
  {
   "cell_type": "code",
   "execution_count": null,
   "id": "b670d176-9a99-4535-bb9a-d949fdd36fcd",
   "metadata": {},
   "outputs": [],
   "source": [
    "# Get detailed sample information\n",
    "sample_info_filtered = adata_500.obs.groupby('sample').agg({\n",
    "    'age': 'first',\n",
    "    'sex': 'first',\n",
    "    'disease': 'first',\n",
    "    'disease_group': 'first',\n",
    "    'sample': 'count'  # This counts cells per sample\n",
    "}).rename(columns={'sample': 'cell_count'}).sort_values('age')\n",
    "\n",
    "print(\"Detailed sample information:\")\n",
    "print(adata_500)"
   ]
  },
  {
   "cell_type": "code",
   "execution_count": null,
   "id": "809dd404-1cb4-4e9a-b8af-ffc1ee2c9a59",
   "metadata": {},
   "outputs": [],
   "source": [
    "# Check cell overlap\n",
    "print(f\"Processed cells: {len(adata_500)}\")\n",
    "print(f\"Raw count cells: {len(adata_500.layers['raw_counts'])}\")"
   ]
  },
  {
   "cell_type": "code",
   "execution_count": null,
   "id": "114ddcaa-33bf-4a26-a723-56b835399fb8",
   "metadata": {},
   "outputs": [],
   "source": [
    "adata_500.write('adata_raw_age_filt_500.h5ad')"
   ]
  }
 ],
 "metadata": {
  "kernelspec": {
   "display_name": "SenePy Environment",
   "language": "python",
   "name": "senepy"
  },
  "language_info": {
   "codemirror_mode": {
    "name": "ipython",
    "version": 3
   },
   "file_extension": ".py",
   "mimetype": "text/x-python",
   "name": "python",
   "nbconvert_exporter": "python",
   "pygments_lexer": "ipython3",
   "version": "3.9.23"
  }
 },
 "nbformat": 4,
 "nbformat_minor": 5
}
