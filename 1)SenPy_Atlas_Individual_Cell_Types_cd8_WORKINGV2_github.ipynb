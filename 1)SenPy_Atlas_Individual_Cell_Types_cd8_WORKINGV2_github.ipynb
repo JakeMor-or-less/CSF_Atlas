{
 "cells": [
  {
   "cell_type": "code",
   "execution_count": null,
   "id": "13f51e95-d668-4a36-8363-6df6d42ad33b",
   "metadata": {},
   "outputs": [],
   "source": [
    "import os\n",
    "import senepy as sp\n",
    "import scanpy as sc\n",
    "import pandas as pd\n",
    "import matplotlib.pyplot as plt\n",
    "import seaborn as sns\n",
    "import numpy as np\n",
    "import random \n",
    "\n",
    "random.seed(42)\n",
    "\n",
    "# Set working directory\n",
    "os.chdir('/fs/scratch/PAS2598/Morales/CSF_workspace/csf')\n",
    "\n",
    "# Check current working directory\n",
    "print(os.getcwd())"
   ]
  },
  {
   "cell_type": "code",
   "execution_count": null,
   "id": "1eea3a88-2e88-4a0a-a949-3d85af4efd3d",
   "metadata": {},
   "outputs": [],
   "source": [
    "hubs = sp.load_hubs(species = 'Human') \n",
    "hubs.metadata"
   ]
  },
  {
   "cell_type": "code",
   "execution_count": null,
   "id": "0c78ff88-b598-4332-a861-64a757ea3ff2",
   "metadata": {},
   "outputs": [],
   "source": [
    "blood_hub = hubs.metadata[(hubs.metadata.tissue == 'blood')]\n",
    "blood_hub\n",
    "hubs.merge_hubs(blood_hub, new_name = 'blood')"
   ]
  },
  {
   "cell_type": "code",
   "execution_count": null,
   "id": "99236971-dbf1-4195-9dc4-adf29474d019",
   "metadata": {
    "scrolled": true
   },
   "outputs": [],
   "source": [
    "# Load your h5ad file\n",
    "adata = sc.read_h5ad('adata_with_raw_age_filtered.h5ad')\n",
    "\n",
    "# Check what you loaded\n",
    "print(adata)\n",
    "print(f\"Number of cells: {adata.n_obs}\")\n",
    "print(f\"Number of genes: {adata.n_vars}\")\n",
    "\n",
    "# View the metadata (equivalent to @meta.data in R)\n",
    "print(adata.obs.head())"
   ]
  },
  {
   "cell_type": "code",
   "execution_count": null,
   "id": "b4b6252d-16b7-4712-9d86-3b50127f0d83",
   "metadata": {},
   "outputs": [],
   "source": [
    "adata.obs"
   ]
  },
  {
   "cell_type": "code",
   "execution_count": null,
   "id": "01ffc19d-d197-4069-904a-599481555fcd",
   "metadata": {},
   "outputs": [],
   "source": [
    "# Subset samples with \"control\" in the disease_group column\n",
    "cd8 = adata[(adata.obs['cell_type'] == 'CD8 T cells')].copy()\n",
    "\n",
    "old = cd8[(cd8.obs['organ'] == 'CSF') & \n",
    "                    (cd8.obs['disease_group'] == 'control') &\n",
    "                    (cd8.obs['age_comparison'] == '≥60 years')].copy()\n",
    "\n",
    "young = cd8[(cd8.obs['organ'] == 'CSF') & \n",
    "                    (cd8.obs['disease_group'] == 'control') &\n",
    "                    (cd8.obs['age_comparison'] == '≤25 years')].copy()\n",
    "\n",
    "adata_cd8_coy = old.concatenate(young)"
   ]
  },
  {
   "cell_type": "code",
   "execution_count": null,
   "id": "fffc6c60-d867-430e-b952-dff3d55e24c3",
   "metadata": {},
   "outputs": [],
   "source": [
    "translator = sp.translator(hub = hubs.hubs[('blood')], data = adata_cd8_coy)"
   ]
  },
  {
   "cell_type": "code",
   "execution_count": null,
   "id": "68fd7ca0-714c-44de-bc98-73b9769c2e7d",
   "metadata": {},
   "outputs": [],
   "source": [
    "#score_hub returns a list and we can save this directly to the adata.obs dataframe\n",
    "\n",
    "# CD4_subset = adata[adata.obs['cell_type'] == 'CD4 T cells'].copy()\n",
    "\n",
    "adata_cd8_coy.obs['sen_score'] = sp.score_all_cells(adata_cd8_coy, hubs.hubs[('blood')], \n",
    "                                     identifiers = ['sex', 'age_comparison'])"
   ]
  },
  {
   "cell_type": "code",
   "execution_count": null,
   "id": "e24d0380-d944-4017-bfcb-dec4c4b3798e",
   "metadata": {},
   "outputs": [],
   "source": [
    "adata_cd8_coy.obs.head()"
   ]
  },
  {
   "cell_type": "code",
   "execution_count": null,
   "id": "f10bff32-39c8-4730-81c1-23b84d3872ea",
   "metadata": {},
   "outputs": [],
   "source": [
    "young = adata_cd8_coy[adata_cd8_coy.obs['age_comparison'] == '≤25 years'].copy()"
   ]
  },
  {
   "cell_type": "code",
   "execution_count": null,
   "id": "b6d9beee-d0f2-4fe3-ba46-1ce6cf620cde",
   "metadata": {},
   "outputs": [],
   "source": [
    "e = young.obs.sen_score.mean() #distribution mean"
   ]
  },
  {
   "cell_type": "code",
   "execution_count": null,
   "id": "19d14278-4672-4da5-800f-37dce1a1b481",
   "metadata": {},
   "outputs": [],
   "source": [
    "std = young.obs.sen_score.std() #distribution std"
   ]
  },
  {
   "cell_type": "code",
   "execution_count": null,
   "id": "11cf4bbe-ef81-4b91-b2b7-5c98998d8452",
   "metadata": {},
   "outputs": [],
   "source": [
    "thresh = e + 3*std\n",
    "thresh"
   ]
  },
  {
   "cell_type": "code",
   "execution_count": null,
   "id": "f0d8a36f-8a9a-4f58-a3a7-f475e3df263a",
   "metadata": {},
   "outputs": [],
   "source": [
    "#function to add senescent label\n",
    "def is_putative_sen(x):\n",
    "    if x >= thresh:\n",
    "        return 1\n",
    "    else:\n",
    "        return 0"
   ]
  },
  {
   "cell_type": "code",
   "execution_count": null,
   "id": "67449451-5762-4ea4-8951-140f5c92a79d",
   "metadata": {},
   "outputs": [],
   "source": [
    "#map function to a new row in adata.obs\n",
    "adata_cd8_coy.obs['putative_sen'] = adata_cd8_coy.obs.sen_score.map(is_putative_sen)"
   ]
  },
  {
   "cell_type": "code",
   "execution_count": null,
   "id": "c1c3d700-3ca8-4bfa-a2ee-17ac9e71ea79",
   "metadata": {},
   "outputs": [],
   "source": [
    "adata_cd8_coy.obs.head()"
   ]
  },
  {
   "cell_type": "code",
   "execution_count": null,
   "id": "df2128d1-dc66-4c9f-a7c2-17e661ec7ac0",
   "metadata": {},
   "outputs": [],
   "source": [
    "# Filter to only include the two groups of interest\n",
    "comparison_data = adata_cd8_coy.obs[adata_cd8_coy.obs['age_comparison'] != 'exclude']\n",
    "\n",
    "# Calculate senescence percentages grouped by BOTH cell type AND age group\n",
    "senescence_by_group_cell = comparison_data.groupby(['cell_type', 'age_comparison'])['putative_sen'].agg(['mean', 'count', 'std']).reset_index()\n",
    "senescence_by_group_cell['percent_senescent'] = senescence_by_group_cell['mean'] * 100\n",
    "senescence_by_group_cell['sem'] = (senescence_by_group_cell['std'] / np.sqrt(senescence_by_group_cell['count'])) * 100\n",
    "\n",
    "# Print summary statistics\n",
    "print(\"cd8 senescence by cell type and age group:\")\n",
    "print(senescence_by_group_cell)\n",
    "\n",
    "\n",
    "# Create the grouped bar plot\n",
    "plt.figure(figsize=(6, 6))\n",
    "\n",
    "# Create a grouped bar plot\n",
    "ax = sns.barplot(\n",
    "    data=senescence_by_group_cell,\n",
    "    #x='cell_type',\n",
    "    y='percent_senescent',\n",
    "    hue='age_comparison',\n",
    "    palette={'≤25 years': '#3498DB', '≥60 years': '#E74C3C'},\n",
    "    errorbar=('ci', 95),\n",
    "    capsize=0.1\n",
    ")\n",
    "\n",
    "# Create a dictionary to store the x positions of bars for each cell type and age group\n",
    "bar_positions = {}\n",
    "cell_types = senescence_by_group_cell['cell_type'].unique()\n",
    "num_cell_types = len(cell_types)\n",
    "\n",
    "# Get the bar positions \n",
    "for i, cell_type in enumerate(cell_types):\n",
    "    bar_positions[cell_type] = {}\n",
    "    bar_positions[cell_type]['≤25 years'] = i - 0.2  # Position for young group\n",
    "    bar_positions[cell_type]['≥60 years'] = i + 0.2   # Position for old group\n",
    "\n",
    "# Add sample sizes and percentages\n",
    "for _, row in senescence_by_group_cell.iterrows():\n",
    "    cell_type = row['cell_type']\n",
    "    age_group = row['age_comparison']\n",
    "    count = row['count']\n",
    "    percent = row['percent_senescent']\n",
    "    \n",
    "    # Calculate position\n",
    "    x_pos = bar_positions[cell_type][age_group]\n",
    "    \n",
    "    # Determine y position for sample size - make it relative to bar height\n",
    "    y_offset = 1.0  # Fixed offset above bar\n",
    "    if percent > 5:  # For very short bars\n",
    "        y_pos = percent + y_offset\n",
    "    else:\n",
    "        # For taller bars, place within the bar\n",
    "        y_pos = percent - 0.075\n",
    "        # But ensure it's visible (not below bar)\n",
    "        #if y_pos < 1:\n",
    "        #    y_pos = percent + 0.1\n",
    "    \n",
    "    # For extremely tall bars like the myeloid cells\n",
    "    if percent > 20:\n",
    "        y_pos = percent - 2\n",
    "    \n",
    "    # Add sample size\n",
    "    plt.text(\n",
    "        x_pos, \n",
    "        y_pos,\n",
    "        f'n={count}',\n",
    "        ha='center',\n",
    "        va='center',\n",
    "        fontsize=9,\n",
    "        fontweight='bold',\n",
    "        color='black',\n",
    "        bbox=dict(facecolor='white', alpha=0.7, edgecolor='none', pad=1)\n",
    "    )\n",
    "    \n",
    "    # Add percentage to the top of each bar\n",
    "    plt.text(\n",
    "        x_pos,\n",
    "        percent + 0.01,  # Position slightly above the bar\n",
    "        f'{percent:.1f}%',  # Format to 1 decimal place\n",
    "        ha='center',\n",
    "        va='bottom',\n",
    "        fontsize=9,\n",
    "        fontweight='bold',\n",
    "        color='black',\n",
    "        bbox=dict(facecolor='white', alpha=0.7, edgecolor='none', pad=1)\n",
    "    )\n",
    "\n",
    "plt.title('Proportion of Senescent Cells: Young vs Old Patients (Controls)', fontsize=15, fontweight='bold')\n",
    "plt.ylabel('Senescent Cells (%)', fontsize=13)\n",
    "plt.yticks(fontsize=10, fontweight='bold')  # Rotate labels for better readability\n",
    "plt.xlabel('CD8 T cells', fontsize=12, rotation=45, ha='right')\n",
    "plt.xticks(rotation=45, ha='right')  # Rotate labels for better readability\n",
    "plt.legend(title='Age Group')\n",
    "plt.tight_layout()\n",
    "ax.spines['top'].set_linewidth(1.5)\n",
    "ax.spines['right'].set_linewidth(1.5)\n",
    "ax.spines['bottom'].set_linewidth(1.5)\n",
    "ax.spines['left'].set_linewidth(1.5)\n",
    "ax.tick_params(axis='x', width=2, length=6)\n",
    "ax.tick_params(axis='y', width=1.5, length=6)\n",
    "\n",
    "# Increase y-limit to accommodate the percentage labels\n",
    "max_percent = max(senescence_by_group_cell['percent_senescent'])\n",
    "plt.ylim(0, max_percent * 1.25)  # Increased headroom for labels\n",
    "\n",
    "# Save as TIFF (publication quality)\n",
    "plt.savefig('senepy_cd8_controls_oldvsyoung_7-28-25.tiff', dpi=300, bbox_inches='tight')\n",
    "\n",
    "plt.show()"
   ]
  }
 ],
 "metadata": {
  "kernelspec": {
   "display_name": "SenePy Environment",
   "language": "python",
   "name": "senepy"
  },
  "language_info": {
   "codemirror_mode": {
    "name": "ipython",
    "version": 3
   },
   "file_extension": ".py",
   "mimetype": "text/x-python",
   "name": "python",
   "nbconvert_exporter": "python",
   "pygments_lexer": "ipython3",
   "version": "3.9.23"
  }
 },
 "nbformat": 4,
 "nbformat_minor": 5
}
